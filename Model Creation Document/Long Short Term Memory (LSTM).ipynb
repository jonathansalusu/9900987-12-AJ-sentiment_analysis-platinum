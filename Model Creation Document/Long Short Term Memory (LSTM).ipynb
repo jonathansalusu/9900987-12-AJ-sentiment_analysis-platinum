{
  "nbformat": 4,
  "nbformat_minor": 0,
  "metadata": {
    "colab": {
      "provenance": []
    },
    "kernelspec": {
      "name": "python3",
      "display_name": "Python 3"
    },
    "language_info": {
      "name": "python"
    }
  },
  "cells": [
    {
      "cell_type": "code",
      "execution_count": null,
      "metadata": {
        "colab": {
          "base_uri": "https://localhost:8080/"
        },
        "id": "qyyJ5RPpRMB0",
        "outputId": "01f7ee43-51d3-4c04-cf64-b634c0624ed6"
      },
      "outputs": [
        {
          "output_type": "stream",
          "name": "stdout",
          "text": [
            "Mounted at /content/drive\n"
          ]
        }
      ],
      "source": [
        "from google.colab import drive\n",
        "drive.mount('/content/drive')"
      ]
    },
    {
      "cell_type": "code",
      "source": [
        "!pip install Sastrawi"
      ],
      "metadata": {
        "colab": {
          "base_uri": "https://localhost:8080/"
        },
        "id": "F4FUNWLKRl8Z",
        "outputId": "b71ae16c-cf80-4f42-a4cf-9c5ba42f4c36"
      },
      "execution_count": null,
      "outputs": [
        {
          "output_type": "stream",
          "name": "stdout",
          "text": [
            "Collecting Sastrawi\n",
            "  Downloading Sastrawi-1.0.1-py2.py3-none-any.whl (209 kB)\n",
            "\u001b[2K     \u001b[90m━━━━━━━━━━━━━━━━━━━━━━━━━━━━━━━━━━━━━━━━\u001b[0m \u001b[32m209.7/209.7 kB\u001b[0m \u001b[31m3.3 MB/s\u001b[0m eta \u001b[36m0:00:00\u001b[0m\n",
            "\u001b[?25hInstalling collected packages: Sastrawi\n",
            "Successfully installed Sastrawi-1.0.1\n"
          ]
        }
      ]
    },
    {
      "cell_type": "code",
      "source": [
        "!pip install tensorflow"
      ],
      "metadata": {
        "colab": {
          "base_uri": "https://localhost:8080/"
        },
        "id": "x4w7yB1gRoUm",
        "outputId": "540f7cce-23f3-4ec1-bf14-0a41ae963628"
      },
      "execution_count": null,
      "outputs": [
        {
          "output_type": "stream",
          "name": "stdout",
          "text": [
            "Requirement already satisfied: tensorflow in /usr/local/lib/python3.10/dist-packages (2.14.0)\n",
            "Requirement already satisfied: absl-py>=1.0.0 in /usr/local/lib/python3.10/dist-packages (from tensorflow) (1.4.0)\n",
            "Requirement already satisfied: astunparse>=1.6.0 in /usr/local/lib/python3.10/dist-packages (from tensorflow) (1.6.3)\n",
            "Requirement already satisfied: flatbuffers>=23.5.26 in /usr/local/lib/python3.10/dist-packages (from tensorflow) (23.5.26)\n",
            "Requirement already satisfied: gast!=0.5.0,!=0.5.1,!=0.5.2,>=0.2.1 in /usr/local/lib/python3.10/dist-packages (from tensorflow) (0.5.4)\n",
            "Requirement already satisfied: google-pasta>=0.1.1 in /usr/local/lib/python3.10/dist-packages (from tensorflow) (0.2.0)\n",
            "Requirement already satisfied: h5py>=2.9.0 in /usr/local/lib/python3.10/dist-packages (from tensorflow) (3.9.0)\n",
            "Requirement already satisfied: libclang>=13.0.0 in /usr/local/lib/python3.10/dist-packages (from tensorflow) (16.0.6)\n",
            "Requirement already satisfied: ml-dtypes==0.2.0 in /usr/local/lib/python3.10/dist-packages (from tensorflow) (0.2.0)\n",
            "Requirement already satisfied: numpy>=1.23.5 in /usr/local/lib/python3.10/dist-packages (from tensorflow) (1.23.5)\n",
            "Requirement already satisfied: opt-einsum>=2.3.2 in /usr/local/lib/python3.10/dist-packages (from tensorflow) (3.3.0)\n",
            "Requirement already satisfied: packaging in /usr/local/lib/python3.10/dist-packages (from tensorflow) (23.2)\n",
            "Requirement already satisfied: protobuf!=4.21.0,!=4.21.1,!=4.21.2,!=4.21.3,!=4.21.4,!=4.21.5,<5.0.0dev,>=3.20.3 in /usr/local/lib/python3.10/dist-packages (from tensorflow) (3.20.3)\n",
            "Requirement already satisfied: setuptools in /usr/local/lib/python3.10/dist-packages (from tensorflow) (67.7.2)\n",
            "Requirement already satisfied: six>=1.12.0 in /usr/local/lib/python3.10/dist-packages (from tensorflow) (1.16.0)\n",
            "Requirement already satisfied: termcolor>=1.1.0 in /usr/local/lib/python3.10/dist-packages (from tensorflow) (2.3.0)\n",
            "Requirement already satisfied: typing-extensions>=3.6.6 in /usr/local/lib/python3.10/dist-packages (from tensorflow) (4.5.0)\n",
            "Requirement already satisfied: wrapt<1.15,>=1.11.0 in /usr/local/lib/python3.10/dist-packages (from tensorflow) (1.14.1)\n",
            "Requirement already satisfied: tensorflow-io-gcs-filesystem>=0.23.1 in /usr/local/lib/python3.10/dist-packages (from tensorflow) (0.34.0)\n",
            "Requirement already satisfied: grpcio<2.0,>=1.24.3 in /usr/local/lib/python3.10/dist-packages (from tensorflow) (1.59.0)\n",
            "Requirement already satisfied: tensorboard<2.15,>=2.14 in /usr/local/lib/python3.10/dist-packages (from tensorflow) (2.14.1)\n",
            "Requirement already satisfied: tensorflow-estimator<2.15,>=2.14.0 in /usr/local/lib/python3.10/dist-packages (from tensorflow) (2.14.0)\n",
            "Requirement already satisfied: keras<2.15,>=2.14.0 in /usr/local/lib/python3.10/dist-packages (from tensorflow) (2.14.0)\n",
            "Requirement already satisfied: wheel<1.0,>=0.23.0 in /usr/local/lib/python3.10/dist-packages (from astunparse>=1.6.0->tensorflow) (0.41.2)\n",
            "Requirement already satisfied: google-auth<3,>=1.6.3 in /usr/local/lib/python3.10/dist-packages (from tensorboard<2.15,>=2.14->tensorflow) (2.17.3)\n",
            "Requirement already satisfied: google-auth-oauthlib<1.1,>=0.5 in /usr/local/lib/python3.10/dist-packages (from tensorboard<2.15,>=2.14->tensorflow) (1.0.0)\n",
            "Requirement already satisfied: markdown>=2.6.8 in /usr/local/lib/python3.10/dist-packages (from tensorboard<2.15,>=2.14->tensorflow) (3.5)\n",
            "Requirement already satisfied: requests<3,>=2.21.0 in /usr/local/lib/python3.10/dist-packages (from tensorboard<2.15,>=2.14->tensorflow) (2.31.0)\n",
            "Requirement already satisfied: tensorboard-data-server<0.8.0,>=0.7.0 in /usr/local/lib/python3.10/dist-packages (from tensorboard<2.15,>=2.14->tensorflow) (0.7.2)\n",
            "Requirement already satisfied: werkzeug>=1.0.1 in /usr/local/lib/python3.10/dist-packages (from tensorboard<2.15,>=2.14->tensorflow) (3.0.1)\n",
            "Requirement already satisfied: cachetools<6.0,>=2.0.0 in /usr/local/lib/python3.10/dist-packages (from google-auth<3,>=1.6.3->tensorboard<2.15,>=2.14->tensorflow) (5.3.2)\n",
            "Requirement already satisfied: pyasn1-modules>=0.2.1 in /usr/local/lib/python3.10/dist-packages (from google-auth<3,>=1.6.3->tensorboard<2.15,>=2.14->tensorflow) (0.3.0)\n",
            "Requirement already satisfied: rsa<5,>=3.1.4 in /usr/local/lib/python3.10/dist-packages (from google-auth<3,>=1.6.3->tensorboard<2.15,>=2.14->tensorflow) (4.9)\n",
            "Requirement already satisfied: requests-oauthlib>=0.7.0 in /usr/local/lib/python3.10/dist-packages (from google-auth-oauthlib<1.1,>=0.5->tensorboard<2.15,>=2.14->tensorflow) (1.3.1)\n",
            "Requirement already satisfied: charset-normalizer<4,>=2 in /usr/local/lib/python3.10/dist-packages (from requests<3,>=2.21.0->tensorboard<2.15,>=2.14->tensorflow) (3.3.1)\n",
            "Requirement already satisfied: idna<4,>=2.5 in /usr/local/lib/python3.10/dist-packages (from requests<3,>=2.21.0->tensorboard<2.15,>=2.14->tensorflow) (3.4)\n",
            "Requirement already satisfied: urllib3<3,>=1.21.1 in /usr/local/lib/python3.10/dist-packages (from requests<3,>=2.21.0->tensorboard<2.15,>=2.14->tensorflow) (2.0.7)\n",
            "Requirement already satisfied: certifi>=2017.4.17 in /usr/local/lib/python3.10/dist-packages (from requests<3,>=2.21.0->tensorboard<2.15,>=2.14->tensorflow) (2023.7.22)\n",
            "Requirement already satisfied: MarkupSafe>=2.1.1 in /usr/local/lib/python3.10/dist-packages (from werkzeug>=1.0.1->tensorboard<2.15,>=2.14->tensorflow) (2.1.3)\n",
            "Requirement already satisfied: pyasn1<0.6.0,>=0.4.6 in /usr/local/lib/python3.10/dist-packages (from pyasn1-modules>=0.2.1->google-auth<3,>=1.6.3->tensorboard<2.15,>=2.14->tensorflow) (0.5.0)\n",
            "Requirement already satisfied: oauthlib>=3.0.0 in /usr/local/lib/python3.10/dist-packages (from requests-oauthlib>=0.7.0->google-auth-oauthlib<1.1,>=0.5->tensorboard<2.15,>=2.14->tensorflow) (3.2.2)\n"
          ]
        }
      ]
    },
    {
      "cell_type": "code",
      "source": [
        "#library\n",
        "import pandas as pd\n",
        "import regex as re\n",
        "import numpy as np\n",
        "from sklearn import metrics\n",
        "from sklearn.metrics import classification_report\n",
        "from sklearn.metrics import accuracy_score\n",
        "from sklearn.model_selection import KFold\n",
        "from sklearn.model_selection import train_test_split\n",
        "import matplotlib.pyplot as plt\n",
        "from nltk.tokenize import word_tokenize\n",
        "from nltk.corpus import stopwords\n",
        "from Sastrawi.Stemmer.StemmerFactory import StemmerFactory\n",
        "import pickle\n",
        "import plotly.express as px\n",
        "from collections import defaultdict\n",
        "import tensorflow as tf\n",
        "from tensorflow.keras.preprocessing.text import Tokenizer\n",
        "from tensorflow.keras.preprocessing.sequence import pad_sequences\n",
        "from tensorflow.keras import datasets, layers, models\n",
        "from tensorflow.keras.models import Sequential\n",
        "from tensorflow.keras.layers import Dense, Embedding, LSTM, SpatialDropout1D, SimpleRNN, Activation\n",
        "from tensorflow.keras import optimizers\n",
        "from tensorflow.keras.callbacks import EarlyStopping, TensorBoard\n",
        "from tensorflow.keras.layers import Flatten\n",
        "from tensorflow.keras import backend as K\n",
        "from keras.models import load_model"
      ],
      "metadata": {
        "id": "B9y2XCfjRrjv"
      },
      "execution_count": null,
      "outputs": []
    },
    {
      "cell_type": "markdown",
      "source": [
        "## Dataset"
      ],
      "metadata": {
        "id": "_4a1rXIRxQAa"
      }
    },
    {
      "cell_type": "code",
      "source": [
        "df=pd.read_csv('/content/drive/MyDrive/binar-data-science/Platinum Challenge/train_preprocess.tsv.txt',sep='\t',header=None)"
      ],
      "metadata": {
        "id": "dfFcV5PkR28H"
      },
      "execution_count": null,
      "outputs": []
    },
    {
      "cell_type": "code",
      "source": [
        "df.columns=['text','label']"
      ],
      "metadata": {
        "id": "rPIrWNKIR52j"
      },
      "execution_count": null,
      "outputs": []
    },
    {
      "cell_type": "code",
      "source": [
        "df['text']"
      ],
      "metadata": {
        "id": "JemEFLkPVA5O",
        "colab": {
          "base_uri": "https://localhost:8080/"
        },
        "outputId": "1559abff-5506-4fae-c3a2-9d9836876ccc"
      },
      "execution_count": null,
      "outputs": [
        {
          "output_type": "execute_result",
          "data": {
            "text/plain": [
              "0        warung ini dimiliki oleh pengusaha pabrik tahu...\n",
              "1        mohon ulama lurus dan k212 mmbri hujjah partai...\n",
              "2        lokasi strategis di jalan sumatera bandung . t...\n",
              "3        betapa bahagia nya diri ini saat unboxing pake...\n",
              "4        duh . jadi mahasiswa jangan sombong dong . kas...\n",
              "                               ...                        \n",
              "10995                                         tidak kecewa\n",
              "10996    enak rasa masakan nya apalagi kepiting yang me...\n",
              "10997          hormati partai-partai yang telah berkoalisi\n",
              "10998    pagi pagi di tol pasteur sudah macet parah , b...\n",
              "10999    meskipun sering belanja ke yogya di riau junct...\n",
              "Name: text, Length: 11000, dtype: object"
            ]
          },
          "metadata": {},
          "execution_count": 7
        }
      ]
    },
    {
      "cell_type": "code",
      "source": [
        "df.isna().sum()"
      ],
      "metadata": {
        "id": "AJdBI3fqVBh_",
        "colab": {
          "base_uri": "https://localhost:8080/"
        },
        "outputId": "3a93b9b3-c22e-4208-f77a-04d193ea5da8"
      },
      "execution_count": null,
      "outputs": [
        {
          "output_type": "execute_result",
          "data": {
            "text/plain": [
              "text     0\n",
              "label    0\n",
              "dtype: int64"
            ]
          },
          "metadata": {},
          "execution_count": 8
        }
      ]
    },
    {
      "cell_type": "code",
      "source": [
        "df.label.value_counts()"
      ],
      "metadata": {
        "id": "ZSToKIutVDPH",
        "colab": {
          "base_uri": "https://localhost:8080/"
        },
        "outputId": "a7da1dd0-1fdd-45e8-dc83-11aa8d9e842d"
      },
      "execution_count": null,
      "outputs": [
        {
          "output_type": "execute_result",
          "data": {
            "text/plain": [
              "positive    6416\n",
              "negative    3436\n",
              "neutral     1148\n",
              "Name: label, dtype: int64"
            ]
          },
          "metadata": {},
          "execution_count": 9
        }
      ]
    },
    {
      "cell_type": "markdown",
      "source": [
        "## Preprocessing"
      ],
      "metadata": {
        "id": "gjI2cqjJSAJJ"
      }
    },
    {
      "cell_type": "code",
      "source": [
        "df_stopwordbahasa=pd.read_csv('/content/drive/MyDrive/binar-data-science/Platinum Challenge/stopwordbahasa.csv',header=None)\n",
        "df_stopwordbahasa.columns=['stopword']"
      ],
      "metadata": {
        "id": "ul64zEf1_8Ar"
      },
      "execution_count": null,
      "outputs": []
    },
    {
      "cell_type": "code",
      "source": [
        "df_kamusalay = pd.read_csv('/content/drive/MyDrive/binar-data-science/Platinum Challenge/new_kamusalay.csv', encoding='latin-1', sep = ';', names=['Alay','Normal'])"
      ],
      "metadata": {
        "id": "VKS4B3X___-F"
      },
      "execution_count": null,
      "outputs": []
    },
    {
      "cell_type": "code",
      "source": [
        "#cleansing\n",
        "def preprocess_text(text):\n",
        "    # lower text\n",
        "    text = text.lower()\n",
        "\n",
        "    # remove byte emoticons and special characters\n",
        "    text = re.sub(r'\\\\x[\\da-fA-F]{2}', '', text)\n",
        "\n",
        "    # only allow characters from a to z (both upper and lower case)\n",
        "    text = re.sub(r'[^a-zA-Z0-9]', ' ', text)\n",
        "\n",
        "    # remove excessive white space\n",
        "    text = re.sub(r'\\s+', ' ', text)\n",
        "\n",
        "    # remove digit or numbers\n",
        "    text = re.sub(r\"\\b\\d+\\b\", \" \", text)\n",
        "\n",
        "    # remove digit from string\n",
        "    text = re.sub(\"\\S*\\d\\S*\", \"\", text).strip()\n",
        "\n",
        "    return text\n",
        "\n",
        "#removing stopwords\n",
        "stopwords = df_stopwordbahasa['stopword'].tolist()\n",
        "def remove_stopwords(text):\n",
        "    list_stopwords = text.split()\n",
        "    return ' '.join([text for text in list_stopwords if text not in stopwords])\n",
        "\n",
        "#normalization\n",
        "kamus_alay = dict(zip(df_kamusalay['Alay'], df_kamusalay['Normal']))\n",
        "def normalize(text):\n",
        "    for word in kamus_alay:\n",
        "        return ' '.join([kamus_alay[word] if word in kamus_alay else word for word in text.split(' ')])\n",
        "\n",
        "#stemming\n",
        "factory = StemmerFactory()\n",
        "stemmer = factory.create_stemmer()\n",
        "def stem_text(text):\n",
        "    return stemmer.stem(text)"
      ],
      "metadata": {
        "id": "sur6rgwER9Vm"
      },
      "execution_count": null,
      "outputs": []
    },
    {
      "cell_type": "code",
      "source": [
        "def cleansing_text(text):\n",
        "    text = preprocess_text(text)\n",
        "    text = remove_stopwords(text)\n",
        "    text = normalize(text)\n",
        "    text = stem_text(text)\n",
        "    return text"
      ],
      "metadata": {
        "id": "w354RIGcSEXw"
      },
      "execution_count": null,
      "outputs": []
    },
    {
      "cell_type": "code",
      "source": [
        "df['text_baru'] = df['text'].apply(cleansing_text)"
      ],
      "metadata": {
        "id": "mdWi5oqPSK2h"
      },
      "execution_count": null,
      "outputs": []
    },
    {
      "cell_type": "code",
      "source": [
        "df.text_baru.to_list()[0:5]"
      ],
      "metadata": {
        "colab": {
          "base_uri": "https://localhost:8080/"
        },
        "id": "BK7l0FRcSH42",
        "outputId": "e79b354c-d643-404b-ee82-a86d1160920d"
      },
      "execution_count": null,
      "outputs": [
        {
          "output_type": "execute_result",
          "data": {
            "text/plain": [
              "['warung milik usaha pabrik puluh kenal putih bandung kualitas padu ahli masak padu kretivitas warung saji menu utama bahan tambah menu ayam selera indonesia harga jangkau lewat bletoka kalah asli tegal',\n",
              " 'mohon ulama lurus beri hujjah partai diwlh suara islam pecah pecah',\n",
              " 'lokasi strategis jalan sumatra bandung nyaman sofa lantai paella enak pas makan minum bir dingin appetiser enak enak',\n",
              " 'betapa bahagia unboxing paket barang bagus tetap beli',\n",
              " 'aduh mahasiswa sombong kasih kartu kuning ajar usah politik selesai kuliah politik telat dasar mahasiswa']"
            ]
          },
          "metadata": {},
          "execution_count": 13
        }
      ]
    },
    {
      "cell_type": "markdown",
      "source": [
        "## Sentiment Label"
      ],
      "metadata": {
        "id": "XuDXxhApVQrY"
      }
    },
    {
      "cell_type": "code",
      "source": [
        "neg = df.loc[df['label'] == 'negative'].text_baru.tolist()\n",
        "neu = df.loc[df['label'] == 'neutral'].text_baru.tolist()\n",
        "pos = df.loc[df['label'] == 'positive'].text_baru.tolist()\n",
        "\n",
        "neg_label = df.loc[df['label'] == 'negative'].label.tolist()\n",
        "neu_label = df.loc[df['label'] == 'neutral'].label.tolist()\n",
        "pos_label = df.loc[df['label'] == 'positive'].label.tolist()\n",
        "\n",
        "total_data = pos + neu + neg\n",
        "labels = pos_label + neu_label + neg_label\n",
        "\n",
        "print('Pos: %s, Neu: %s, Neg: %s' % (len(pos), len(neu), len(neg)))\n",
        "print('Total data: %s' % len(total_data))"
      ],
      "metadata": {
        "colab": {
          "base_uri": "https://localhost:8080/"
        },
        "id": "j8651dY5VHi3",
        "outputId": "9d3a3323-3790-497e-aedf-c630b4bc0604"
      },
      "execution_count": null,
      "outputs": [
        {
          "output_type": "stream",
          "name": "stdout",
          "text": [
            "Pos: 6416, Neu: 1148, Neg: 3436\n",
            "Total data: 11000\n"
          ]
        }
      ]
    },
    {
      "cell_type": "markdown",
      "source": [
        "## Feature Extraction"
      ],
      "metadata": {
        "id": "NJgJQQSqV12w"
      }
    },
    {
      "cell_type": "code",
      "source": [
        "max_features = 100000\n",
        "tokenizer = Tokenizer(num_words=max_features, split=' ', lower=True)\n",
        "tokenizer.fit_on_texts(total_data)\n",
        "with open('tokenizer.pickle', 'wb') as handle:\n",
        "  pickle.dump(tokenizer, handle, protocol=pickle.HIGHEST_PROTOCOL)\n",
        "  print('tokenizer.pickle has created!')\n",
        "\n",
        "X = tokenizer.texts_to_sequences(total_data)\n",
        "\n",
        "vocab_size = len(tokenizer.word_index)\n",
        "maxlen = max(len(x) for x in X)\n",
        "\n",
        "X = pad_sequences(X)\n",
        "with open('x_pad_sequences.pickle','wb') as handle:\n",
        "  pickle.dump(X, handle, protocol=pickle.HIGHEST_PROTOCOL)\n",
        "  print('x_pad_sequences.pickle has created!')"
      ],
      "metadata": {
        "colab": {
          "base_uri": "https://localhost:8080/"
        },
        "id": "svxqG0-0V0qC",
        "outputId": "ccf3ce81-6e73-429a-88d9-fc85acd7166e"
      },
      "execution_count": null,
      "outputs": [
        {
          "output_type": "stream",
          "name": "stdout",
          "text": [
            "tokenizer.pickle has created!\n",
            "x_pad_sequences.pickle has created!\n"
          ]
        }
      ]
    },
    {
      "cell_type": "code",
      "source": [
        "Y = pd.get_dummies(labels)\n",
        "Y = Y.values\n",
        "\n",
        "with open('y_labels.pickle', 'wb') as handle:\n",
        "  pickle.dump(Y, handle, protocol=pickle.HIGHEST_PROTOCOL)\n",
        "  print('y_labels.pickle has created!')"
      ],
      "metadata": {
        "colab": {
          "base_uri": "https://localhost:8080/"
        },
        "id": "mtoD0SSgWIva",
        "outputId": "b71b3fdb-f521-492c-ea00-cffe2950d25a"
      },
      "execution_count": null,
      "outputs": [
        {
          "output_type": "stream",
          "name": "stdout",
          "text": [
            "y_labels.pickle has created!\n"
          ]
        }
      ]
    },
    {
      "cell_type": "markdown",
      "source": [
        "## Split Data"
      ],
      "metadata": {
        "id": "IsHPWxsdWSNi"
      }
    },
    {
      "cell_type": "code",
      "source": [
        "file = open('x_pad_sequences.pickle','rb')\n",
        "X = pickle.load(file)\n",
        "file.close()\n",
        "\n",
        "file = open('y_labels.pickle','rb')\n",
        "Y = pickle.load(file)\n",
        "file.close()\n",
        "\n",
        "X_train, X_test, y_train, y_test = train_test_split(X, Y, test_size=0.2, random_state=1)"
      ],
      "metadata": {
        "id": "azaODsu6WRou"
      },
      "execution_count": null,
      "outputs": []
    },
    {
      "cell_type": "markdown",
      "source": [
        "## Training"
      ],
      "metadata": {
        "id": "_Al9QQG6Wirx"
      }
    },
    {
      "cell_type": "code",
      "source": [
        "embed_dim = 64\n",
        "units = 128\n",
        "\n",
        "model = Sequential()\n",
        "model.add(Embedding(max_features, embed_dim, input_length=X.shape[1]))\n",
        "model.add(LSTM(units, dropout=0.3))\n",
        "model.add(Dense(3, activation='softmax'))\n",
        "model.compile(loss = 'binary_crossentropy', optimizer='adam', metrics = ['accuracy'])\n",
        "print(model.summary())\n",
        "\n",
        "adam = optimizers.Adam(learning_rate = 0.001)\n",
        "model.compile(loss = 'categorical_crossentropy', optimizer = adam, metrics = ['accuracy'])\n",
        "\n",
        "history = model.fit(X_train, y_train, epochs=5, batch_size=128, validation_data=(X_test, y_test), verbose=1)"
      ],
      "metadata": {
        "colab": {
          "base_uri": "https://localhost:8080/"
        },
        "id": "3m7tWmxNWiEk",
        "outputId": "ff489ced-36aa-4247-fd5c-e47be7eed711"
      },
      "execution_count": null,
      "outputs": [
        {
          "output_type": "stream",
          "name": "stdout",
          "text": [
            "Model: \"sequential\"\n",
            "_________________________________________________________________\n",
            " Layer (type)                Output Shape              Param #   \n",
            "=================================================================\n",
            " embedding (Embedding)       (None, 55, 64)            6400000   \n",
            "                                                                 \n",
            " lstm (LSTM)                 (None, 128)               98816     \n",
            "                                                                 \n",
            " dense (Dense)               (None, 3)                 387       \n",
            "                                                                 \n",
            "=================================================================\n",
            "Total params: 6499203 (24.79 MB)\n",
            "Trainable params: 6499203 (24.79 MB)\n",
            "Non-trainable params: 0 (0.00 Byte)\n",
            "_________________________________________________________________\n",
            "None\n",
            "Epoch 1/5\n",
            "69/69 [==============================] - 25s 319ms/step - loss: 0.7418 - accuracy: 0.6859 - val_loss: 0.5615 - val_accuracy: 0.7636\n",
            "Epoch 2/5\n",
            "69/69 [==============================] - 20s 289ms/step - loss: 0.4622 - accuracy: 0.8002 - val_loss: 0.4717 - val_accuracy: 0.8123\n",
            "Epoch 3/5\n",
            "69/69 [==============================] - 20s 285ms/step - loss: 0.3039 - accuracy: 0.8833 - val_loss: 0.4224 - val_accuracy: 0.8423\n",
            "Epoch 4/5\n",
            "69/69 [==============================] - 21s 309ms/step - loss: 0.2094 - accuracy: 0.9237 - val_loss: 0.4279 - val_accuracy: 0.8473\n",
            "Epoch 5/5\n",
            "69/69 [==============================] - 20s 284ms/step - loss: 0.1560 - accuracy: 0.9439 - val_loss: 0.4598 - val_accuracy: 0.8409\n"
          ]
        }
      ]
    },
    {
      "cell_type": "markdown",
      "source": [
        "## Evaluation"
      ],
      "metadata": {
        "id": "wiV9H0urWs2h"
      }
    },
    {
      "cell_type": "code",
      "source": [
        "predictions = model.predict(X_test)\n",
        "y_pred = predictions\n",
        "matrix_test = metrics.classification_report(y_test.argmax(axis=1), y_pred.argmax(axis=1))\n",
        "print('Testing selesai')\n",
        "print(matrix_test)"
      ],
      "metadata": {
        "id": "lV6jVkwYWoYR",
        "colab": {
          "base_uri": "https://localhost:8080/"
        },
        "outputId": "00e11b90-6473-464a-827c-f44235e6db71"
      },
      "execution_count": null,
      "outputs": [
        {
          "output_type": "stream",
          "name": "stdout",
          "text": [
            "69/69 [==============================] - 2s 27ms/step\n",
            "Testing selesai\n",
            "              precision    recall  f1-score   support\n",
            "\n",
            "           0       0.79      0.76      0.78       685\n",
            "           1       0.75      0.72      0.73       233\n",
            "           2       0.88      0.91      0.89      1282\n",
            "\n",
            "    accuracy                           0.84      2200\n",
            "   macro avg       0.81      0.79      0.80      2200\n",
            "weighted avg       0.84      0.84      0.84      2200\n",
            "\n"
          ]
        }
      ]
    },
    {
      "cell_type": "markdown",
      "source": [
        "## Cross Validation"
      ],
      "metadata": {
        "id": "IU80TAfDW6JN"
      }
    },
    {
      "cell_type": "code",
      "source": [
        "kf = KFold(n_splits=5,random_state=42,shuffle=True)\n",
        "\n",
        "accuracies = []\n",
        "\n",
        "y = Y\n",
        "\n",
        "embed_dim = 64\n",
        "units = 128\n",
        "\n",
        "for iteration, data in enumerate(kf.split(X), start=1):\n",
        "\n",
        "    data_train   = X[data[0]]\n",
        "    target_train = y[data[0]]\n",
        "\n",
        "    data_test    = X[data[1]]\n",
        "    target_test  = y[data[1]]\n",
        "\n",
        "    model = Sequential()\n",
        "    model.add(Embedding(max_features, embed_dim, input_length=X.shape[1]))\n",
        "    model.add(LSTM(units, dropout=0.3))\n",
        "    model.add(Dense(3,activation='softmax'))\n",
        "    model.compile(loss = 'binary_crossentropy', optimizer='adam', metrics = ['accuracy'])\n",
        "\n",
        "    adam = optimizers.Adam(learning_rate = 0.001)\n",
        "    model.compile(loss = 'categorical_crossentropy', optimizer = adam, metrics = ['accuracy'])\n",
        "\n",
        "    history = model.fit(X_train, y_train, epochs=5, batch_size=128, validation_data=(X_test, y_test), verbose=1)\n",
        "\n",
        "    predictions = model.predict(X_test)\n",
        "    y_pred = predictions\n",
        "\n",
        "    accuracy = accuracy_score(y_test.argmax(axis=1), y_pred.argmax(axis=1))\n",
        "\n",
        "    print(\"Training ke-\", iteration)\n",
        "    print(classification_report(y_test.argmax(axis=1), y_pred.argmax(axis=1)))\n",
        "    print(\"======================================================\")\n",
        "\n",
        "    accuracies.append(accuracy)\n",
        "\n",
        "# this is the average accuracy over all folds\n",
        "average_accuracy = np.mean(accuracies)\n",
        "\n",
        "print()\n",
        "print()\n",
        "print()\n",
        "print(\"Rata-rata Accuracy: \", average_accuracy)"
      ],
      "metadata": {
        "id": "7wNAGkLLW8-B",
        "colab": {
          "base_uri": "https://localhost:8080/"
        },
        "outputId": "b15a212e-38d3-4060-f3b2-065e27ccc6ca"
      },
      "execution_count": null,
      "outputs": [
        {
          "output_type": "stream",
          "name": "stdout",
          "text": [
            "Epoch 1/5\n",
            "69/69 [==============================] - 23s 289ms/step - loss: 0.7420 - accuracy: 0.6853 - val_loss: 0.5638 - val_accuracy: 0.7686\n",
            "Epoch 2/5\n",
            "69/69 [==============================] - 19s 279ms/step - loss: 0.4633 - accuracy: 0.8055 - val_loss: 0.4431 - val_accuracy: 0.8195\n",
            "Epoch 3/5\n",
            "69/69 [==============================] - 21s 306ms/step - loss: 0.2988 - accuracy: 0.8869 - val_loss: 0.3991 - val_accuracy: 0.8455\n",
            "Epoch 4/5\n",
            "69/69 [==============================] - 19s 280ms/step - loss: 0.2095 - accuracy: 0.9253 - val_loss: 0.4411 - val_accuracy: 0.8373\n",
            "Epoch 5/5\n",
            "69/69 [==============================] - 21s 300ms/step - loss: 0.1607 - accuracy: 0.9438 - val_loss: 0.4522 - val_accuracy: 0.8441\n",
            "69/69 [==============================] - 2s 27ms/step\n",
            "Training ke- 1\n",
            "              precision    recall  f1-score   support\n",
            "\n",
            "           0       0.81      0.77      0.79       685\n",
            "           1       0.66      0.77      0.71       233\n",
            "           2       0.90      0.90      0.90      1282\n",
            "\n",
            "    accuracy                           0.84      2200\n",
            "   macro avg       0.79      0.81      0.80      2200\n",
            "weighted avg       0.85      0.84      0.84      2200\n",
            "\n",
            "======================================================\n",
            "Epoch 1/5\n",
            "69/69 [==============================] - 25s 328ms/step - loss: 0.7509 - accuracy: 0.6818 - val_loss: 0.5712 - val_accuracy: 0.7636\n",
            "Epoch 2/5\n",
            "69/69 [==============================] - 21s 306ms/step - loss: 0.4715 - accuracy: 0.7984 - val_loss: 0.4647 - val_accuracy: 0.8050\n",
            "Epoch 3/5\n",
            "69/69 [==============================] - 19s 281ms/step - loss: 0.3139 - accuracy: 0.8808 - val_loss: 0.4172 - val_accuracy: 0.8436\n",
            "Epoch 4/5\n",
            "69/69 [==============================] - 21s 308ms/step - loss: 0.2133 - accuracy: 0.9230 - val_loss: 0.4225 - val_accuracy: 0.8477\n",
            "Epoch 5/5\n",
            "69/69 [==============================] - 19s 280ms/step - loss: 0.1561 - accuracy: 0.9424 - val_loss: 0.4956 - val_accuracy: 0.8314\n",
            "69/69 [==============================] - 2s 28ms/step\n",
            "Training ke- 2\n",
            "              precision    recall  f1-score   support\n",
            "\n",
            "           0       0.73      0.82      0.77       685\n",
            "           1       0.81      0.65      0.72       233\n",
            "           2       0.90      0.87      0.88      1282\n",
            "\n",
            "    accuracy                           0.83      2200\n",
            "   macro avg       0.81      0.78      0.79      2200\n",
            "weighted avg       0.84      0.83      0.83      2200\n",
            "\n",
            "======================================================\n",
            "Epoch 1/5\n",
            "69/69 [==============================] - 24s 302ms/step - loss: 0.7525 - accuracy: 0.6839 - val_loss: 0.5878 - val_accuracy: 0.7595\n",
            "Epoch 2/5\n",
            "69/69 [==============================] - 20s 288ms/step - loss: 0.4627 - accuracy: 0.8045 - val_loss: 0.4511 - val_accuracy: 0.8236\n",
            "Epoch 3/5\n",
            "69/69 [==============================] - 21s 310ms/step - loss: 0.2968 - accuracy: 0.8892 - val_loss: 0.4079 - val_accuracy: 0.8386\n",
            "Epoch 4/5\n",
            "69/69 [==============================] - 19s 281ms/step - loss: 0.2071 - accuracy: 0.9273 - val_loss: 0.4222 - val_accuracy: 0.8450\n",
            "Epoch 5/5\n",
            "69/69 [==============================] - 21s 305ms/step - loss: 0.1592 - accuracy: 0.9434 - val_loss: 0.4436 - val_accuracy: 0.8473\n",
            "69/69 [==============================] - 2s 27ms/step\n",
            "Training ke- 3\n",
            "              precision    recall  f1-score   support\n",
            "\n",
            "           0       0.80      0.76      0.78       685\n",
            "           1       0.79      0.68      0.73       233\n",
            "           2       0.88      0.93      0.90      1282\n",
            "\n",
            "    accuracy                           0.85      2200\n",
            "   macro avg       0.82      0.79      0.80      2200\n",
            "weighted avg       0.84      0.85      0.84      2200\n",
            "\n",
            "======================================================\n",
            "Epoch 1/5\n",
            "69/69 [==============================] - 23s 306ms/step - loss: 0.7299 - accuracy: 0.7082 - val_loss: 0.5769 - val_accuracy: 0.7632\n",
            "Epoch 2/5\n",
            "69/69 [==============================] - 19s 281ms/step - loss: 0.4482 - accuracy: 0.8103 - val_loss: 0.4553 - val_accuracy: 0.8150\n",
            "Epoch 3/5\n",
            "69/69 [==============================] - 19s 278ms/step - loss: 0.2958 - accuracy: 0.8883 - val_loss: 0.4191 - val_accuracy: 0.8427\n",
            "Epoch 4/5\n",
            "69/69 [==============================] - 21s 304ms/step - loss: 0.2040 - accuracy: 0.9249 - val_loss: 0.4369 - val_accuracy: 0.8386\n",
            "Epoch 5/5\n",
            "69/69 [==============================] - 22s 316ms/step - loss: 0.1525 - accuracy: 0.9440 - val_loss: 0.4559 - val_accuracy: 0.8414\n",
            "69/69 [==============================] - 2s 30ms/step\n",
            "Training ke- 4\n",
            "              precision    recall  f1-score   support\n",
            "\n",
            "           0       0.79      0.75      0.77       685\n",
            "           1       0.79      0.68      0.73       233\n",
            "           2       0.88      0.92      0.90      1282\n",
            "\n",
            "    accuracy                           0.84      2200\n",
            "   macro avg       0.82      0.78      0.80      2200\n",
            "weighted avg       0.84      0.84      0.84      2200\n",
            "\n",
            "======================================================\n",
            "Epoch 1/5\n",
            "69/69 [==============================] - 23s 289ms/step - loss: 0.7464 - accuracy: 0.6855 - val_loss: 0.5739 - val_accuracy: 0.7614\n",
            "Epoch 2/5\n",
            "69/69 [==============================] - 19s 279ms/step - loss: 0.4665 - accuracy: 0.8010 - val_loss: 0.4516 - val_accuracy: 0.8086\n",
            "Epoch 3/5\n",
            "69/69 [==============================] - 21s 304ms/step - loss: 0.2988 - accuracy: 0.8872 - val_loss: 0.4112 - val_accuracy: 0.8405\n",
            "Epoch 4/5\n",
            "69/69 [==============================] - 19s 281ms/step - loss: 0.2123 - accuracy: 0.9227 - val_loss: 0.4345 - val_accuracy: 0.8482\n",
            "Epoch 5/5\n",
            "69/69 [==============================] - 19s 280ms/step - loss: 0.1577 - accuracy: 0.9432 - val_loss: 0.4508 - val_accuracy: 0.8395\n",
            "69/69 [==============================] - 4s 53ms/step\n",
            "Training ke- 5\n",
            "              precision    recall  f1-score   support\n",
            "\n",
            "           0       0.79      0.74      0.77       685\n",
            "           1       0.76      0.72      0.74       233\n",
            "           2       0.88      0.91      0.89      1282\n",
            "\n",
            "    accuracy                           0.84      2200\n",
            "   macro avg       0.81      0.79      0.80      2200\n",
            "weighted avg       0.84      0.84      0.84      2200\n",
            "\n",
            "======================================================\n",
            "\n",
            "\n",
            "\n",
            "Rata-rata Accuracy:  0.8407272727272728\n"
          ]
        }
      ]
    },
    {
      "cell_type": "markdown",
      "source": [
        "# Model Evaluation"
      ],
      "metadata": {
        "id": "r0p1WdIlz8H5"
      }
    },
    {
      "cell_type": "code",
      "source": [
        "plt.style.use('ggplot')\n",
        "\n",
        "def plot_history(history):\n",
        "  acc = history.history['accuracy']\n",
        "  val_acc = history.history['val_accuracy']\n",
        "  loss = history.history['loss']\n",
        "  val_loss = history.history['val_loss']\n",
        "  x = range(1, len(acc) +1)\n",
        "\n",
        "  plt.figure(figsize=(12, 5))\n",
        "  plt.subplot(1,2,1)\n",
        "  plt.plot(x, acc, 'b', label='Training acc')\n",
        "  plt.plot(x, val_acc, 'r', label='Validation acc')\n",
        "  plt.title('Training and validation accuracy')\n",
        "  plt.legend()\n",
        "  plt.subplot(1,2,2)\n",
        "  plt.plot(x, loss, 'b', label='Training loss')\n",
        "  plt.plot(x, val_loss, 'r', label='Validation loss')\n",
        "  plt.title('Training and validation loss')\n",
        "  plt.legend()\n",
        "\n",
        "%matplotlib inline\n",
        "plot_history(history)"
      ],
      "metadata": {
        "id": "VuNW_WJbXC5l",
        "colab": {
          "base_uri": "https://localhost:8080/",
          "height": 469
        },
        "outputId": "adad397e-6bd0-43af-d99f-d8b41e655b9a"
      },
      "execution_count": null,
      "outputs": [
        {
          "output_type": "display_data",
          "data": {
            "text/plain": [
              "<Figure size 1200x500 with 2 Axes>"
            ],
            "image/png": "[encoded data removed]"
          },
          "metadata": {}
        }
      ]
    },
    {
      "cell_type": "markdown",
      "source": [
        "## Save Model"
      ],
      "metadata": {
        "id": "Qy-qcb6KXHyw"
      }
    },
    {
      "cell_type": "code",
      "source": [
        "model.save('model.h5')\n",
        "print('Model has created!')"
      ],
      "metadata": {
        "id": "U0n26SnsXLWn",
        "colab": {
          "base_uri": "https://localhost:8080/"
        },
        "outputId": "7c980b96-5c7e-4cbd-efe4-eaf1f08b6080"
      },
      "execution_count": null,
      "outputs": [
        {
          "output_type": "stream",
          "name": "stdout",
          "text": [
            "Model has created!\n"
          ]
        },
        {
          "output_type": "stream",
          "name": "stderr",
          "text": [
            "/usr/local/lib/python3.10/dist-packages/keras/src/engine/training.py:3079: UserWarning: You are saving your model as an HDF5 file via `model.save()`. This file format is considered legacy. We recommend using instead the native Keras format, e.g. `model.save('my_model.keras')`.\n",
            "  saving_api.save_model(\n"
          ]
        }
      ]
    },
    {
      "cell_type": "markdown",
      "source": [
        "## Predict"
      ],
      "metadata": {
        "id": "41X0ZKpHXUGs"
      }
    },
    {
      "cell_type": "code",
      "source": [
        "input_text = \"\"\"\n",
        "syukur..,,;,;\n",
        "\"\"\"\n",
        "\n",
        "sentiment = ['negative', 'neutral', 'positive']\n",
        "\n",
        "text = [cleansing_text(input_text)]\n",
        "predicted = tokenizer.texts_to_sequences(text)\n",
        "guess = pad_sequences(predicted, maxlen=X.shape[1])\n",
        "\n",
        "model = load_model('model.h5')\n",
        "prediction = model.predict(guess)\n",
        "polarity = np.argmax(prediction[0])\n",
        "\n",
        "print('Text: ',text[0])\n",
        "print('Sentiment: ',sentiment[polarity])"
      ],
      "metadata": {
        "id": "QXQpmP4sXRhe",
        "colab": {
          "base_uri": "https://localhost:8080/"
        },
        "outputId": "a80af4fa-149a-43a1-e0dc-483d9f77e06c"
      },
      "execution_count": null,
      "outputs": [
        {
          "output_type": "stream",
          "name": "stdout",
          "text": [
            "1/1 [==============================] - 1s 650ms/step\n",
            "Text:  syukur\n",
            "Sentiment:  positive\n"
          ]
        }
      ]
    },
    {
      "cell_type": "code",
      "source": [
        "input_text = \"\"\"\n",
        "sombong..,,;,;\n",
        "\"\"\"\n",
        "\n",
        "sentiment = ['negative', 'neutral', 'positive']\n",
        "\n",
        "text = [cleansing_text(input_text)]\n",
        "predicted = tokenizer.texts_to_sequences(text)\n",
        "guess = pad_sequences(predicted, maxlen=X.shape[1])\n",
        "\n",
        "model = load_model('model.h5')\n",
        "prediction = model.predict(guess)\n",
        "polarity = np.argmax(prediction[0])\n",
        "\n",
        "print('Text: ',text[0])\n",
        "print('Sentiment: ',sentiment[polarity])"
      ],
      "metadata": {
        "colab": {
          "base_uri": "https://localhost:8080/"
        },
        "id": "nRnBC1NCatBr",
        "outputId": "aa1968ca-6189-473a-df3a-ee693d0bb50c"
      },
      "execution_count": null,
      "outputs": [
        {
          "output_type": "stream",
          "name": "stderr",
          "text": [
            "WARNING:tensorflow:6 out of the last 74 calls to <function Model.make_predict_function.<locals>.predict_function at 0x7f591de953f0> triggered tf.function retracing. Tracing is expensive and the excessive number of tracings could be due to (1) creating @tf.function repeatedly in a loop, (2) passing tensors with different shapes, (3) passing Python objects instead of tensors. For (1), please define your @tf.function outside of the loop. For (2), @tf.function has reduce_retracing=True option that can avoid unnecessary retracing. For (3), please refer to https://www.tensorflow.org/guide/function#controlling_retracing and https://www.tensorflow.org/api_docs/python/tf/function for  more details.\n"
          ]
        },
        {
          "output_type": "stream",
          "name": "stdout",
          "text": [
            "1/1 [==============================] - 0s 475ms/step\n",
            "Text:  sombong\n",
            "Sentiment:  negative\n"
          ]
        }
      ]
    }
  ]
}