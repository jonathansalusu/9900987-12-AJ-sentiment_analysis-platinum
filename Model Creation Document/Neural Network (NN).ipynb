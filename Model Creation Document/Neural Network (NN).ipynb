{
  "nbformat": 4,
  "nbformat_minor": 0,
  "metadata": {
    "colab": {
      "provenance": []
    },
    "kernelspec": {
      "name": "python3",
      "display_name": "Python 3"
    },
    "language_info": {
      "name": "python"
    }
  },
  "cells": [
    {
      "cell_type": "code",
      "execution_count": null,
      "metadata": {
        "colab": {
          "base_uri": "https://localhost:8080/"
        },
        "id": "IpTJ1k1WA2x6",
        "outputId": "b12b1a1c-a5d0-40fe-b290-7f6707a1a63c"
      },
      "outputs": [
        {
          "output_type": "stream",
          "name": "stdout",
          "text": [
            "Mounted at /content/drive\n"
          ]
        }
      ],
      "source": [
        "from google.colab import drive\n",
        "drive.mount('/content/drive')"
      ]
    },
    {
      "cell_type": "code",
      "source": [
        "!pip install Sastrawi"
      ],
      "metadata": {
        "colab": {
          "base_uri": "https://localhost:8080/"
        },
        "id": "CBsQ-89kWRCW",
        "outputId": "31dfac63-03ae-47f6-c27f-319691b4a818"
      },
      "execution_count": null,
      "outputs": [
        {
          "output_type": "stream",
          "name": "stdout",
          "text": [
            "Collecting Sastrawi\n",
            "  Downloading Sastrawi-1.0.1-py2.py3-none-any.whl (209 kB)\n",
            "\u001b[?25l     \u001b[90m━━━━━━━━━━━━━━━━━━━━━━━━━━━━━━━━━━━━━━━━\u001b[0m \u001b[32m0.0/209.7 kB\u001b[0m \u001b[31m?\u001b[0m eta \u001b[36m-:--:--\u001b[0m\r\u001b[2K     \u001b[91m━━━━━━━━━━━━━━━━━━━━━━━━━\u001b[0m\u001b[90m╺\u001b[0m\u001b[90m━━━━━━━━━━━━━━\u001b[0m \u001b[32m133.1/209.7 kB\u001b[0m \u001b[31m3.7 MB/s\u001b[0m eta \u001b[36m0:00:01\u001b[0m\r\u001b[2K     \u001b[90m━━━━━━━━━━━━━━━━━━━━━━━━━━━━━━━━━━━━━━━━\u001b[0m \u001b[32m209.7/209.7 kB\u001b[0m \u001b[31m3.7 MB/s\u001b[0m eta \u001b[36m0:00:00\u001b[0m\n",
            "\u001b[?25hInstalling collected packages: Sastrawi\n",
            "Successfully installed Sastrawi-1.0.1\n"
          ]
        }
      ]
    },
    {
      "cell_type": "code",
      "source": [
        "#library\n",
        "import pandas as pd\n",
        "import regex as re\n",
        "import numpy as np\n",
        "from sklearn.neural_network import MLPClassifier\n",
        "from sklearn import metrics\n",
        "from sklearn.metrics import classification_report\n",
        "from sklearn.metrics import accuracy_score\n",
        "from sklearn.model_selection import KFold\n",
        "from sklearn.model_selection import train_test_split\n",
        "import matplotlib.pyplot as plt\n",
        "from nltk.tokenize import word_tokenize\n",
        "from nltk.corpus import stopwords\n",
        "from Sastrawi.Stemmer.StemmerFactory import StemmerFactory\n",
        "import pickle\n",
        "import plotly.express as px\n",
        "from collections import defaultdict\n",
        "from keras.models import load_model"
      ],
      "metadata": {
        "id": "rDpy0mdq_6Sb"
      },
      "execution_count": null,
      "outputs": []
    },
    {
      "cell_type": "markdown",
      "source": [
        "## Dataset"
      ],
      "metadata": {
        "id": "8rmr2RpW_VbK"
      }
    },
    {
      "cell_type": "code",
      "source": [
        "df=pd.read_csv('/content/drive/MyDrive/binar-data-science/Platinum Challenge/train_preprocess.tsv.txt',sep='\t',header=None)"
      ],
      "metadata": {
        "id": "AqRJyxy0A8LC"
      },
      "execution_count": null,
      "outputs": []
    },
    {
      "cell_type": "code",
      "source": [
        "df.columns=['text','label']"
      ],
      "metadata": {
        "id": "s_7d9Ya_AaoD"
      },
      "execution_count": null,
      "outputs": []
    },
    {
      "cell_type": "code",
      "source": [
        "df.head()"
      ],
      "metadata": {
        "colab": {
          "base_uri": "https://localhost:8080/",
          "height": 206
        },
        "id": "VjAxts3nUZ-K",
        "outputId": "7acebadc-c057-4a69-e496-1bebb028aa35"
      },
      "execution_count": null,
      "outputs": [
        {
          "output_type": "execute_result",
          "data": {
            "text/plain": [
              "                                                text     label\n",
              "0  warung ini dimiliki oleh pengusaha pabrik tahu...  positive\n",
              "1  mohon ulama lurus dan k212 mmbri hujjah partai...   neutral\n",
              "2  lokasi strategis di jalan sumatera bandung . t...  positive\n",
              "3  betapa bahagia nya diri ini saat unboxing pake...  positive\n",
              "4  duh . jadi mahasiswa jangan sombong dong . kas...  negative"
            ],
            "text/html": [
              "\n",
              "  <div id=\"df-8542a770-5cbb-4efa-8eff-93e679376c2b\" class=\"colab-df-container\">\n",
              "    <div>\n",
              "<style scoped>\n",
              "    .dataframe tbody tr th:only-of-type {\n",
              "        vertical-align: middle;\n",
              "    }\n",
              "\n",
              "    .dataframe tbody tr th {\n",
              "        vertical-align: top;\n",
              "    }\n",
              "\n",
              "    .dataframe thead th {\n",
              "        text-align: right;\n",
              "    }\n",
              "</style>\n",
              "<table border=\"1\" class=\"dataframe\">\n",
              "  <thead>\n",
              "    <tr style=\"text-align: right;\">\n",
              "      <th></th>\n",
              "      <th>text</th>\n",
              "      <th>label</th>\n",
              "    </tr>\n",
              "  </thead>\n",
              "  <tbody>\n",
              "    <tr>\n",
              "      <th>0</th>\n",
              "      <td>warung ini dimiliki oleh pengusaha pabrik tahu...</td>\n",
              "      <td>positive</td>\n",
              "    </tr>\n",
              "    <tr>\n",
              "      <th>1</th>\n",
              "      <td>mohon ulama lurus dan k212 mmbri hujjah partai...</td>\n",
              "      <td>neutral</td>\n",
              "    </tr>\n",
              "    <tr>\n",
              "      <th>2</th>\n",
              "      <td>lokasi strategis di jalan sumatera bandung . t...</td>\n",
              "      <td>positive</td>\n",
              "    </tr>\n",
              "    <tr>\n",
              "      <th>3</th>\n",
              "      <td>betapa bahagia nya diri ini saat unboxing pake...</td>\n",
              "      <td>positive</td>\n",
              "    </tr>\n",
              "    <tr>\n",
              "      <th>4</th>\n",
              "      <td>duh . jadi mahasiswa jangan sombong dong . kas...</td>\n",
              "      <td>negative</td>\n",
              "    </tr>\n",
              "  </tbody>\n",
              "</table>\n",
              "</div>\n",
              "    <div class=\"colab-df-buttons\">\n",
              "\n",
              "  <div class=\"colab-df-container\">\n",
              "    <button class=\"colab-df-convert\" onclick=\"convertToInteractive('df-8542a770-5cbb-4efa-8eff-93e679376c2b')\"\n",
              "            title=\"Convert this dataframe to an interactive table.\"\n",
              "            style=\"display:none;\">\n",
              "\n",
              "  <svg xmlns=\"http://www.w3.org/2000/svg\" height=\"24px\" viewBox=\"0 -960 960 960\">\n",
              "    <path d=\"M120-120v-720h720v720H120Zm60-500h600v-160H180v160Zm220 220h160v-160H400v160Zm0 220h160v-160H400v160ZM180-400h160v-160H180v160Zm440 0h160v-160H620v160ZM180-180h160v-160H180v160Zm440 0h160v-160H620v160Z\"/>\n",
              "  </svg>\n",
              "    </button>\n",
              "\n",
              "  <style>\n",
              "    .colab-df-container {\n",
              "      display:flex;\n",
              "      gap: 12px;\n",
              "    }\n",
              "\n",
              "    .colab-df-convert {\n",
              "      background-color: #E8F0FE;\n",
              "      border: none;\n",
              "      border-radius: 50%;\n",
              "      cursor: pointer;\n",
              "      display: none;\n",
              "      fill: #1967D2;\n",
              "      height: 32px;\n",
              "      padding: 0 0 0 0;\n",
              "      width: 32px;\n",
              "    }\n",
              "\n",
              "    .colab-df-convert:hover {\n",
              "      background-color: #E2EBFA;\n",
              "      box-shadow: 0px 1px 2px rgba(60, 64, 67, 0.3), 0px 1px 3px 1px rgba(60, 64, 67, 0.15);\n",
              "      fill: #174EA6;\n",
              "    }\n",
              "\n",
              "    .colab-df-buttons div {\n",
              "      margin-bottom: 4px;\n",
              "    }\n",
              "\n",
              "    [theme=dark] .colab-df-convert {\n",
              "      background-color: #3B4455;\n",
              "      fill: #D2E3FC;\n",
              "    }\n",
              "\n",
              "    [theme=dark] .colab-df-convert:hover {\n",
              "      background-color: #434B5C;\n",
              "      box-shadow: 0px 1px 3px 1px rgba(0, 0, 0, 0.15);\n",
              "      filter: drop-shadow(0px 1px 2px rgba(0, 0, 0, 0.3));\n",
              "      fill: #FFFFFF;\n",
              "    }\n",
              "  </style>\n",
              "\n",
              "    <script>\n",
              "      const buttonEl =\n",
              "        document.querySelector('#df-8542a770-5cbb-4efa-8eff-93e679376c2b button.colab-df-convert');\n",
              "      buttonEl.style.display =\n",
              "        google.colab.kernel.accessAllowed ? 'block' : 'none';\n",
              "\n",
              "      async function convertToInteractive(key) {\n",
              "        const element = document.querySelector('#df-8542a770-5cbb-4efa-8eff-93e679376c2b');\n",
              "        const dataTable =\n",
              "          await google.colab.kernel.invokeFunction('convertToInteractive',\n",
              "                                                    [key], {});\n",
              "        if (!dataTable) return;\n",
              "\n",
              "        const docLinkHtml = 'Like what you see? Visit the ' +\n",
              "          '<a target=\"_blank\" href=https://colab.research.google.com/notebooks/data_table.ipynb>data table notebook</a>'\n",
              "          + ' to learn more about interactive tables.';\n",
              "        element.innerHTML = '';\n",
              "        dataTable['output_type'] = 'display_data';\n",
              "        await google.colab.output.renderOutput(dataTable, element);\n",
              "        const docLink = document.createElement('div');\n",
              "        docLink.innerHTML = docLinkHtml;\n",
              "        element.appendChild(docLink);\n",
              "      }\n",
              "    </script>\n",
              "  </div>\n",
              "\n",
              "\n",
              "<div id=\"df-2beb58ef-f64b-496e-83c4-5e1ea91e223b\">\n",
              "  <button class=\"colab-df-quickchart\" onclick=\"quickchart('df-2beb58ef-f64b-496e-83c4-5e1ea91e223b')\"\n",
              "            title=\"Suggest charts.\"\n",
              "            style=\"display:none;\">\n",
              "\n",
              "<svg xmlns=\"http://www.w3.org/2000/svg\" height=\"24px\"viewBox=\"0 0 24 24\"\n",
              "     width=\"24px\">\n",
              "    <g>\n",
              "        <path d=\"M19 3H5c-1.1 0-2 .9-2 2v14c0 1.1.9 2 2 2h14c1.1 0 2-.9 2-2V5c0-1.1-.9-2-2-2zM9 17H7v-7h2v7zm4 0h-2V7h2v10zm4 0h-2v-4h2v4z\"/>\n",
              "    </g>\n",
              "</svg>\n",
              "  </button>\n",
              "\n",
              "<style>\n",
              "  .colab-df-quickchart {\n",
              "      --bg-color: #E8F0FE;\n",
              "      --fill-color: #1967D2;\n",
              "      --hover-bg-color: #E2EBFA;\n",
              "      --hover-fill-color: #174EA6;\n",
              "      --disabled-fill-color: #AAA;\n",
              "      --disabled-bg-color: #DDD;\n",
              "  }\n",
              "\n",
              "  [theme=dark] .colab-df-quickchart {\n",
              "      --bg-color: #3B4455;\n",
              "      --fill-color: #D2E3FC;\n",
              "      --hover-bg-color: #434B5C;\n",
              "      --hover-fill-color: #FFFFFF;\n",
              "      --disabled-bg-color: #3B4455;\n",
              "      --disabled-fill-color: #666;\n",
              "  }\n",
              "\n",
              "  .colab-df-quickchart {\n",
              "    background-color: var(--bg-color);\n",
              "    border: none;\n",
              "    border-radius: 50%;\n",
              "    cursor: pointer;\n",
              "    display: none;\n",
              "    fill: var(--fill-color);\n",
              "    height: 32px;\n",
              "    padding: 0;\n",
              "    width: 32px;\n",
              "  }\n",
              "\n",
              "  .colab-df-quickchart:hover {\n",
              "    background-color: var(--hover-bg-color);\n",
              "    box-shadow: 0 1px 2px rgba(60, 64, 67, 0.3), 0 1px 3px 1px rgba(60, 64, 67, 0.15);\n",
              "    fill: var(--button-hover-fill-color);\n",
              "  }\n",
              "\n",
              "  .colab-df-quickchart-complete:disabled,\n",
              "  .colab-df-quickchart-complete:disabled:hover {\n",
              "    background-color: var(--disabled-bg-color);\n",
              "    fill: var(--disabled-fill-color);\n",
              "    box-shadow: none;\n",
              "  }\n",
              "\n",
              "  .colab-df-spinner {\n",
              "    border: 2px solid var(--fill-color);\n",
              "    border-color: transparent;\n",
              "    border-bottom-color: var(--fill-color);\n",
              "    animation:\n",
              "      spin 1s steps(1) infinite;\n",
              "  }\n",
              "\n",
              "  @keyframes spin {\n",
              "    0% {\n",
              "      border-color: transparent;\n",
              "      border-bottom-color: var(--fill-color);\n",
              "      border-left-color: var(--fill-color);\n",
              "    }\n",
              "    20% {\n",
              "      border-color: transparent;\n",
              "      border-left-color: var(--fill-color);\n",
              "      border-top-color: var(--fill-color);\n",
              "    }\n",
              "    30% {\n",
              "      border-color: transparent;\n",
              "      border-left-color: var(--fill-color);\n",
              "      border-top-color: var(--fill-color);\n",
              "      border-right-color: var(--fill-color);\n",
              "    }\n",
              "    40% {\n",
              "      border-color: transparent;\n",
              "      border-right-color: var(--fill-color);\n",
              "      border-top-color: var(--fill-color);\n",
              "    }\n",
              "    60% {\n",
              "      border-color: transparent;\n",
              "      border-right-color: var(--fill-color);\n",
              "    }\n",
              "    80% {\n",
              "      border-color: transparent;\n",
              "      border-right-color: var(--fill-color);\n",
              "      border-bottom-color: var(--fill-color);\n",
              "    }\n",
              "    90% {\n",
              "      border-color: transparent;\n",
              "      border-bottom-color: var(--fill-color);\n",
              "    }\n",
              "  }\n",
              "</style>\n",
              "\n",
              "  <script>\n",
              "    async function quickchart(key) {\n",
              "      const quickchartButtonEl =\n",
              "        document.querySelector('#' + key + ' button');\n",
              "      quickchartButtonEl.disabled = true;  // To prevent multiple clicks.\n",
              "      quickchartButtonEl.classList.add('colab-df-spinner');\n",
              "      try {\n",
              "        const charts = await google.colab.kernel.invokeFunction(\n",
              "            'suggestCharts', [key], {});\n",
              "      } catch (error) {\n",
              "        console.error('Error during call to suggestCharts:', error);\n",
              "      }\n",
              "      quickchartButtonEl.classList.remove('colab-df-spinner');\n",
              "      quickchartButtonEl.classList.add('colab-df-quickchart-complete');\n",
              "    }\n",
              "    (() => {\n",
              "      let quickchartButtonEl =\n",
              "        document.querySelector('#df-2beb58ef-f64b-496e-83c4-5e1ea91e223b button');\n",
              "      quickchartButtonEl.style.display =\n",
              "        google.colab.kernel.accessAllowed ? 'block' : 'none';\n",
              "    })();\n",
              "  </script>\n",
              "</div>\n",
              "    </div>\n",
              "  </div>\n"
            ]
          },
          "metadata": {},
          "execution_count": 7
        }
      ]
    },
    {
      "cell_type": "code",
      "source": [
        "df['text']"
      ],
      "metadata": {
        "colab": {
          "base_uri": "https://localhost:8080/"
        },
        "id": "H5F0o9Vr2iB2",
        "outputId": "bb46ca28-5337-4617-a6d3-96eb84db41d3"
      },
      "execution_count": null,
      "outputs": [
        {
          "output_type": "execute_result",
          "data": {
            "text/plain": [
              "0        warung ini dimiliki oleh pengusaha pabrik tahu...\n",
              "1        mohon ulama lurus dan k212 mmbri hujjah partai...\n",
              "2        lokasi strategis di jalan sumatera bandung . t...\n",
              "3        betapa bahagia nya diri ini saat unboxing pake...\n",
              "4        duh . jadi mahasiswa jangan sombong dong . kas...\n",
              "                               ...                        \n",
              "10995                                         tidak kecewa\n",
              "10996    enak rasa masakan nya apalagi kepiting yang me...\n",
              "10997          hormati partai-partai yang telah berkoalisi\n",
              "10998    pagi pagi di tol pasteur sudah macet parah , b...\n",
              "10999    meskipun sering belanja ke yogya di riau junct...\n",
              "Name: text, Length: 11000, dtype: object"
            ]
          },
          "metadata": {},
          "execution_count": 8
        }
      ]
    },
    {
      "cell_type": "code",
      "source": [
        "df.isna().sum()"
      ],
      "metadata": {
        "colab": {
          "base_uri": "https://localhost:8080/"
        },
        "id": "3lBO-TUkCDgU",
        "outputId": "5a6a92c8-68a7-4285-f1f7-9d8f516c7082"
      },
      "execution_count": null,
      "outputs": [
        {
          "output_type": "execute_result",
          "data": {
            "text/plain": [
              "text         0\n",
              "label        0\n",
              "text_baru    0\n",
              "dtype: int64"
            ]
          },
          "metadata": {},
          "execution_count": 40
        }
      ]
    },
    {
      "cell_type": "code",
      "source": [
        "df.label.value_counts()"
      ],
      "metadata": {
        "colab": {
          "base_uri": "https://localhost:8080/"
        },
        "id": "4RwIiF4KCRCL",
        "outputId": "fef0657b-81d7-4874-9775-3a4ea1068ef2"
      },
      "execution_count": null,
      "outputs": [
        {
          "output_type": "execute_result",
          "data": {
            "text/plain": [
              "positive    6416\n",
              "negative    3436\n",
              "neutral     1148\n",
              "Name: label, dtype: int64"
            ]
          },
          "metadata": {},
          "execution_count": 11
        }
      ]
    },
    {
      "cell_type": "markdown",
      "source": [
        "## Cleansing"
      ],
      "metadata": {
        "id": "pgPW5Vu36Oc_"
      }
    },
    {
      "cell_type": "code",
      "source": [
        "df_stopwordbahasa=pd.read_csv('/content/drive/MyDrive/binar-data-science/Platinum Challenge/stopwordbahasa.csv',header=None)\n",
        "df_stopwordbahasa.columns=['stopword']"
      ],
      "metadata": {
        "id": "UmmTy83P_v6z"
      },
      "execution_count": null,
      "outputs": []
    },
    {
      "cell_type": "code",
      "source": [
        "df_kamusalay = pd.read_csv('/content/drive/MyDrive/binar-data-science/Platinum Challenge/new_kamusalay.csv', encoding='latin-1', sep = ';', names=['Alay','Normal'])"
      ],
      "metadata": {
        "id": "0HGdriJB_33r"
      },
      "execution_count": null,
      "outputs": []
    },
    {
      "cell_type": "code",
      "source": [
        "#cleansing\n",
        "def preprocess_text(text):\n",
        "    # lower text\n",
        "    text = text.lower()\n",
        "\n",
        "    # remove byte emoticons and special characters\n",
        "    text = re.sub(r'\\\\x[\\da-fA-F]{2}', '', text)\n",
        "\n",
        "    # only allow characters from a to z (both upper and lower case)\n",
        "    text = re.sub(r'[^a-zA-Z0-9]', ' ', text)\n",
        "\n",
        "    # remove excessive white space\n",
        "    text = re.sub(r'\\s+', ' ', text)\n",
        "\n",
        "    # remove digit or numbers\n",
        "    text = re.sub(r\"\\b\\d+\\b\", \" \", text)\n",
        "\n",
        "    # remove digit from string\n",
        "    text = re.sub(\"\\S*\\d\\S*\", \"\", text).strip()\n",
        "\n",
        "    return text\n",
        "\n",
        "#removing stopwords\n",
        "stopwords = df_stopwordbahasa['stopword'].tolist()\n",
        "def remove_stopwords(text):\n",
        "    list_stopwords = text.split()\n",
        "    return ' '.join([text for text in list_stopwords if text not in stopwords])\n",
        "\n",
        "#normalization\n",
        "kamus_alay = dict(zip(df_kamusalay['Alay'], df_kamusalay['Normal']))\n",
        "def normalize(text):\n",
        "    for word in kamus_alay:\n",
        "        return ' '.join([kamus_alay[word] if word in kamus_alay else word for word in text.split(' ')])\n",
        "\n",
        "#stemming\n",
        "factory = StemmerFactory()\n",
        "stemmer = factory.create_stemmer()\n",
        "def stem_text(text):\n",
        "    return stemmer.stem(text)"
      ],
      "metadata": {
        "id": "oJuYVBQFKA7C"
      },
      "execution_count": null,
      "outputs": []
    },
    {
      "cell_type": "code",
      "source": [
        "def cleansing_text(text):\n",
        "    text = preprocess_text(text)\n",
        "    text = remove_stopwords(text)\n",
        "    text = normalize(text)\n",
        "    text = stem_text(text)\n",
        "    return text"
      ],
      "metadata": {
        "id": "7b_eu16HGJm-"
      },
      "execution_count": null,
      "outputs": []
    },
    {
      "cell_type": "code",
      "source": [
        "df['text_baru'] = df['text'].apply(lambda x: cleansing_text(x))"
      ],
      "metadata": {
        "id": "AKhi9QejKmYy"
      },
      "execution_count": null,
      "outputs": []
    },
    {
      "cell_type": "code",
      "source": [
        "cleaned_data = df.text_baru.to_list()"
      ],
      "metadata": {
        "id": "FRlvrLLD7MJX"
      },
      "execution_count": null,
      "outputs": []
    },
    {
      "cell_type": "markdown",
      "source": [
        "## Feature Extraction"
      ],
      "metadata": {
        "id": "csLWjtI4-f7y"
      }
    },
    {
      "cell_type": "code",
      "source": [
        "from sklearn.feature_extraction.text import CountVectorizer\n",
        "\n",
        "count_vect = CountVectorizer()\n",
        "count_vect.fit(cleaned_data)\n",
        "\n",
        "X = count_vect.transform(cleaned_data)\n",
        "print (\"Feature Extraction selesai\")"
      ],
      "metadata": {
        "colab": {
          "base_uri": "https://localhost:8080/"
        },
        "id": "423T8EWe-v9c",
        "outputId": "5e3cc196-76b6-43b4-88f3-a9b006b0a6ce"
      },
      "execution_count": null,
      "outputs": [
        {
          "output_type": "stream",
          "name": "stdout",
          "text": [
            "Feature Extraction selesai\n"
          ]
        }
      ]
    },
    {
      "cell_type": "code",
      "source": [
        "import pickle\n",
        "\n",
        "pickle.dump(count_vect, open(\"feature.p\", \"wb\"))"
      ],
      "metadata": {
        "id": "SS1EPLPc-qPQ"
      },
      "execution_count": null,
      "outputs": []
    },
    {
      "cell_type": "markdown",
      "source": [
        "## Split Data"
      ],
      "metadata": {
        "id": "4LQW6JFBDHt9"
      }
    },
    {
      "cell_type": "code",
      "source": [
        "from sklearn.model_selection import train_test_split\n",
        "\n",
        "classes = df.label\n",
        "classes"
      ],
      "metadata": {
        "id": "ZPxQarKY-w4k",
        "colab": {
          "base_uri": "https://localhost:8080/"
        },
        "outputId": "616d57fc-6a25-4bc1-bb38-e249b7104391"
      },
      "execution_count": null,
      "outputs": [
        {
          "output_type": "execute_result",
          "data": {
            "text/plain": [
              "0        positive\n",
              "1         neutral\n",
              "2        positive\n",
              "3        positive\n",
              "4        negative\n",
              "           ...   \n",
              "10995    positive\n",
              "10996    positive\n",
              "10997     neutral\n",
              "10998    negative\n",
              "10999    positive\n",
              "Name: label, Length: 11000, dtype: object"
            ]
          },
          "metadata": {},
          "execution_count": 20
        }
      ]
    },
    {
      "cell_type": "code",
      "source": [
        "X_train, X_test, y_train, y_test = train_test_split(X, classes, test_size = 0.2)"
      ],
      "metadata": {
        "id": "8nMLzM-j3J_h"
      },
      "execution_count": null,
      "outputs": []
    },
    {
      "cell_type": "markdown",
      "source": [
        "## Training"
      ],
      "metadata": {
        "id": "EEejnP9yJL5P"
      }
    },
    {
      "cell_type": "code",
      "source": [
        "from sklearn.neural_network import MLPClassifier\n",
        "\n",
        "model = MLPClassifier()\n",
        "model.fit(X_train, y_train)\n",
        "\n",
        "print (\"Training selesai\")"
      ],
      "metadata": {
        "colab": {
          "base_uri": "https://localhost:8080/"
        },
        "id": "qd2BVulgJKzk",
        "outputId": "6025911a-7986-41f9-8026-1e671f26b0cf"
      },
      "execution_count": null,
      "outputs": [
        {
          "output_type": "stream",
          "name": "stdout",
          "text": [
            "Training selesai\n"
          ]
        }
      ]
    },
    {
      "cell_type": "code",
      "source": [
        "#simpan model\n",
        "pickle.dump(model, open(\"model.p\", \"wb\"))"
      ],
      "metadata": {
        "id": "PfWUp0uxk_4g"
      },
      "execution_count": null,
      "outputs": []
    },
    {
      "cell_type": "markdown",
      "source": [
        "## Evaluation"
      ],
      "metadata": {
        "id": "FaMzz5izbPqz"
      }
    },
    {
      "cell_type": "code",
      "source": [
        "from sklearn.metrics import classification_report\n",
        "\n",
        "test = model.predict(X_test)\n",
        "\n",
        "print (\"Testing selesai\")\n",
        "print(classification_report(y_test, test))"
      ],
      "metadata": {
        "colab": {
          "base_uri": "https://localhost:8080/"
        },
        "id": "lIHPGgknJvM7",
        "outputId": "d71e9ab8-b60d-430d-f55a-c78f43c62536"
      },
      "execution_count": null,
      "outputs": [
        {
          "output_type": "stream",
          "name": "stdout",
          "text": [
            "Testing selesai\n",
            "              precision    recall  f1-score   support\n",
            "\n",
            "    negative       0.70      0.70      0.70       710\n",
            "     neutral       0.67      0.59      0.63       236\n",
            "    positive       0.84      0.85      0.84      1254\n",
            "\n",
            "    accuracy                           0.78      2200\n",
            "   macro avg       0.74      0.71      0.72      2200\n",
            "weighted avg       0.77      0.78      0.77      2200\n",
            "\n"
          ]
        }
      ]
    },
    {
      "cell_type": "markdown",
      "source": [
        "## Cross Validation"
      ],
      "metadata": {
        "id": "yJDOoO5tbT-z"
      }
    },
    {
      "cell_type": "code",
      "source": [
        "kf = KFold(n_splits=5,random_state=42,shuffle=True)\n",
        "\n",
        "accuracies = []\n",
        "\n",
        "y = classes\n",
        "\n",
        "for iteration, data in enumerate(kf.split(X), start=1):\n",
        "\n",
        "    data_train   = X[data[0]]\n",
        "    target_train = y[data[0]]\n",
        "\n",
        "    data_test    = X[data[1]]\n",
        "    target_test  = y[data[1]]\n",
        "\n",
        "    clf = MLPClassifier()\n",
        "    clf.fit(data_train,target_train)\n",
        "\n",
        "    preds = clf.predict(data_test)\n",
        "\n",
        "    accuracy = accuracy_score(target_test,preds)\n",
        "\n",
        "    print(\"Training ke-\", iteration)\n",
        "    print(classification_report(target_test,preds))\n",
        "    print(\"======================================================\")\n",
        "\n",
        "    accuracies.append(accuracy)\n",
        "\n",
        "average_accuracy = np.mean(accuracies)\n",
        "\n",
        "print()\n",
        "print()\n",
        "print()\n",
        "print(\"Rata-rata Accuracy: \", average_accuracy)"
      ],
      "metadata": {
        "colab": {
          "base_uri": "https://localhost:8080/"
        },
        "id": "9ss39sNxbJL6",
        "outputId": "3356378a-06be-43ac-b82c-c6e510c4ba3e"
      },
      "execution_count": null,
      "outputs": [
        {
          "output_type": "stream",
          "name": "stdout",
          "text": [
            "Training ke- 1\n",
            "              precision    recall  f1-score   support\n",
            "\n",
            "    negative       0.70      0.70      0.70       680\n",
            "     neutral       0.70      0.53      0.60       239\n",
            "    positive       0.83      0.87      0.85      1281\n",
            "\n",
            "    accuracy                           0.78      2200\n",
            "   macro avg       0.74      0.70      0.72      2200\n",
            "weighted avg       0.78      0.78      0.78      2200\n",
            "\n",
            "======================================================\n",
            "Training ke- 2\n",
            "              precision    recall  f1-score   support\n",
            "\n",
            "    negative       0.70      0.72      0.71       706\n",
            "     neutral       0.62      0.59      0.60       220\n",
            "    positive       0.86      0.85      0.86      1274\n",
            "\n",
            "    accuracy                           0.78      2200\n",
            "   macro avg       0.73      0.72      0.72      2200\n",
            "weighted avg       0.78      0.78      0.78      2200\n",
            "\n",
            "======================================================\n",
            "Training ke- 3\n",
            "              precision    recall  f1-score   support\n",
            "\n",
            "    negative       0.70      0.70      0.70       682\n",
            "     neutral       0.71      0.62      0.66       215\n",
            "    positive       0.85      0.87      0.86      1303\n",
            "\n",
            "    accuracy                           0.79      2200\n",
            "   macro avg       0.75      0.73      0.74      2200\n",
            "weighted avg       0.79      0.79      0.79      2200\n",
            "\n",
            "======================================================\n",
            "Training ke- 4\n",
            "              precision    recall  f1-score   support\n",
            "\n",
            "    negative       0.72      0.72      0.72       698\n",
            "     neutral       0.69      0.57      0.62       229\n",
            "    positive       0.85      0.88      0.86      1273\n",
            "\n",
            "    accuracy                           0.79      2200\n",
            "   macro avg       0.75      0.72      0.74      2200\n",
            "weighted avg       0.79      0.79      0.79      2200\n",
            "\n",
            "======================================================\n",
            "Training ke- 5\n",
            "              precision    recall  f1-score   support\n",
            "\n",
            "    negative       0.69      0.71      0.70       670\n",
            "     neutral       0.68      0.58      0.62       245\n",
            "    positive       0.86      0.87      0.86      1285\n",
            "\n",
            "    accuracy                           0.79      2200\n",
            "   macro avg       0.74      0.72      0.73      2200\n",
            "weighted avg       0.79      0.79      0.79      2200\n",
            "\n",
            "======================================================\n",
            "\n",
            "\n",
            "\n",
            "Rata-rata Accuracy:  0.7876363636363636\n"
          ]
        }
      ]
    },
    {
      "cell_type": "markdown",
      "source": [
        "## Predict"
      ],
      "metadata": {
        "id": "PTtZ95DteCjl"
      }
    },
    {
      "cell_type": "code",
      "source": [
        "original_text =  '''\n",
        "syukur\n",
        "'''\n",
        "\n",
        "text = count_vect.transform([cleansing_text(original_text)])\n",
        "\n",
        "result = model.predict(text)[0]\n",
        "print(\"Sentiment:\")\n",
        "print()\n",
        "print(result)"
      ],
      "metadata": {
        "id": "bkVSg205eHjC",
        "colab": {
          "base_uri": "https://localhost:8080/"
        },
        "outputId": "8c27af1b-4a5f-4d9a-d1ba-e0d2b9ebaa6d"
      },
      "execution_count": null,
      "outputs": [
        {
          "output_type": "stream",
          "name": "stdout",
          "text": [
            "Sentiment:\n",
            "\n",
            "positive\n"
          ]
        }
      ]
    },
    {
      "cell_type": "code",
      "source": [
        "original_text =  '''\n",
        "sombong\n",
        "'''\n",
        "\n",
        "text = count_vect.transform([cleansing_text(original_text)])\n",
        "\n",
        "result = model.predict(text)[0]\n",
        "print(\"Sentiment:\")\n",
        "print()\n",
        "print(result)"
      ],
      "metadata": {
        "colab": {
          "base_uri": "https://localhost:8080/"
        },
        "id": "w8XjTJqYaKiy",
        "outputId": "f77eb766-038b-4739-c527-3fd7a7f2fa6d"
      },
      "execution_count": null,
      "outputs": [
        {
          "output_type": "stream",
          "name": "stdout",
          "text": [
            "Sentiment:\n",
            "\n",
            "negative\n"
          ]
        }
      ]
    }
  ]
}